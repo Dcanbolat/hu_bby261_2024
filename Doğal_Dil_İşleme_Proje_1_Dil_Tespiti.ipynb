{
  "nbformat": 4,
  "nbformat_minor": 0,
  "metadata": {
    "colab": {
      "provenance": [],
      "authorship_tag": "ABX9TyOeRKzU5KIZGFFD54Nr4PYz",
      "include_colab_link": true
    },
    "kernelspec": {
      "name": "python3",
      "display_name": "Python 3"
    },
    "language_info": {
      "name": "python"
    }
  },
  "cells": [
    {
      "cell_type": "markdown",
      "metadata": {
        "id": "view-in-github",
        "colab_type": "text"
      },
      "source": [
        "<a href=\"https://colab.research.google.com/github/Dcanbolat/hu_bby261_2024/blob/main/Do%C4%9Fal_Dil_%C4%B0%C5%9Fleme_Proje_1_Dil_Tespiti.ipynb\" target=\"_parent\"><img src=\"https://colab.research.google.com/assets/colab-badge.svg\" alt=\"Open In Colab\"/></a>"
      ]
    },
    {
      "cell_type": "code",
      "execution_count": 8,
      "metadata": {
        "colab": {
          "base_uri": "https://localhost:8080/"
        },
        "id": "Asw3Dugh0kuB",
        "outputId": "a43a737c-8f70-4751-d762-18ba79e89625"
      },
      "outputs": [
        {
          "output_type": "stream",
          "name": "stdout",
          "text": [
            "Metni girin:Comment vas-tu ? Je t’écris de France, où je vis avec ma famille depuis deux mois. Nous allons bien, nous habitons dans une petite maison ancienne avec un très beau jardin. Nous avons de nouveaux amis et nous avons rencontré nos voisins lors d’une soirée festive la semaine dernière.\n",
            "Metnin dili: Fransızca\n"
          ]
        }
      ],
      "source": [
        "def detect_language(text):\n",
        "    # Diller için basit anahtar kelimeler\n",
        "    languages = {\n",
        "        \"Türkçe\": [\"ve\", \"bir\", \"bu\", \"ile\", \"ben\"],\n",
        "        \"İngilizce\": [\"and\", \"the\", \"is\", \"this\", \"that\"],\n",
        "        \"Almanca\": [\"und\", \"ist\", \"die\", \"das\", \"ein\"],\n",
        "        \"Fransızca\": [\"et\", \"le\", \"la\", \"est\", \"un\"],\n",
        "        \"İspanyolca\": [\"y\", \"es\", \"el\", \"la\", \"que\"]\n",
        "    }\n",
        "\n",
        "    # Metni küçük harfe çevir\n",
        "    text = text.lower()\n",
        "\n",
        "    # Dil tespiti için her dilin puanlarını başlat\n",
        "    language_scores = {\"Türkçe\": 0, \"İngilizce\": 0, \"Almanca\": 0, \"Fransızca\": 0, \"İspanyolca\": 0}\n",
        "\n",
        "    # Metindeki her kelimeyi kontrol et\n",
        "    for word in text.split():\n",
        "        for language, keywords in languages.items():\n",
        "            if word in keywords:\n",
        "                language_scores[language] += 1\n",
        "\n",
        "    # En fazla eşleşmeye sahip olan dili döndür\n",
        "    detected_language = max(language_scores, key=language_scores.get)\n",
        "\n",
        "    return detected_language\n",
        "\n",
        "# Test örneği\n",
        "text = input(\"Metni girin:\")\n",
        "print(\"Metnin dili:\", detect_language(text))\n"
      ]
    }
  ]
}