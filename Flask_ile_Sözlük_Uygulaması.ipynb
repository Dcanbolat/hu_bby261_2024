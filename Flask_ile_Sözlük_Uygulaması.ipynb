{
  "nbformat": 4,
  "nbformat_minor": 0,
  "metadata": {
    "colab": {
      "provenance": [],
      "authorship_tag": "ABX9TyMJV2SvlpSE1/saWCg2xyAz",
      "include_colab_link": true
    },
    "kernelspec": {
      "name": "python3",
      "display_name": "Python 3"
    },
    "language_info": {
      "name": "python"
    }
  },
  "cells": [
    {
      "cell_type": "markdown",
      "metadata": {
        "id": "view-in-github",
        "colab_type": "text"
      },
      "source": [
        "<a href=\"https://colab.research.google.com/github/Dcanbolat/hu_bby261_2024/blob/main/Flask_ile_S%C3%B6zl%C3%BCk_Uygulamas%C4%B1.ipynb\" target=\"_parent\"><img src=\"https://colab.research.google.com/assets/colab-badge.svg\" alt=\"Open In Colab\"/></a>"
      ]
    },
    {
      "cell_type": "code",
      "execution_count": null,
      "metadata": {
        "id": "cUcstQ9AEFbS"
      },
      "outputs": [],
      "source": [
        "from flask import Flask, request, jsonify\n",
        "\n",
        "app = Flask(__name__)\n",
        "\n",
        "# Örnek sözlük\n",
        "data = {\n",
        "    \"python\": \"Python, güçlü ve kolay öğrenilebilir bir programlama dilidir.\",\n",
        "    \"flask\": \"Flask, Python ile web uygulamaları geliştirmek için hafif bir framework'tür.\",\n",
        "    \"api\": \"API, uygulamaların birbiriyle iletişim kurmasını sağlayan bir arayüzdür.\"\n",
        "}\n",
        "\n",
        "@app.route(\"/\")\n",
        "def home():\n",
        "    return \"Ana sayfaya hoş geldiniz! '/search' endpoint'ine bir anahtar kelime ile sorgu gönderebilirsiniz.\"\n",
        "\n",
        "@app.route(\"/search\", methods=[\"GET\"])\n",
        "def search():\n",
        "    keyword = request.args.get(\"keyword\")\n",
        "    if not keyword:\n",
        "        return jsonify({\"error\": \"Lütfen bir anahtar kelime girin.\"}), 400\n",
        "    result = data.get(keyword.lower(), \"Aradığınız kelime bulunamadı.\")\n",
        "    return jsonify({\"keyword\": keyword, \"result\": result})\n",
        "\n",
        "if __name__ == \"__main__\":\n",
        "    app.run(debug=True)\n"
      ]
    }
  ]
}