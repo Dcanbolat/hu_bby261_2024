{
  "nbformat": 4,
  "nbformat_minor": 0,
  "metadata": {
    "colab": {
      "provenance": [],
      "authorship_tag": "ABX9TyMpgksctg61LbSQBbejqEE6",
      "include_colab_link": true
    },
    "kernelspec": {
      "name": "python3",
      "display_name": "Python 3"
    },
    "language_info": {
      "name": "python"
    }
  },
  "cells": [
    {
      "cell_type": "markdown",
      "metadata": {
        "id": "view-in-github",
        "colab_type": "text"
      },
      "source": [
        "<a href=\"https://colab.research.google.com/github/Dcanbolat/hu_bby261_2024/blob/main/Do%C4%9Fal_Dil_%C4%B0%C5%9Fleme_Proje_4_Konu_Tespiti.ipynb\" target=\"_parent\"><img src=\"https://colab.research.google.com/assets/colab-badge.svg\" alt=\"Open In Colab\"/></a>"
      ]
    },
    {
      "cell_type": "code",
      "source": [
        "# Gerekli kütüphaneleri içeri aktarma\n",
        "from sklearn.feature_extraction.text import CountVectorizer\n",
        "from sklearn.naive_bayes import MultinomialNB\n",
        "from sklearn.pipeline import make_pipeline\n",
        "\n",
        "# Eğitim verisi: Konu başlıkları ve örnek metinler\n",
        "data = [\n",
        "    (\"Hükümet, seçim yasalarını değiştirdi.\", \"Siyaset\"),\n",
        "    (\"Yapay zeka teknolojileri hızla gelişiyor.\", \"Teknoloji\"),\n",
        "    (\"Futbol takımımız şampiyon oldu!\", \"Spor\"),\n",
        "    (\"Doktorlar sağlıklı yaşam için egzersiz öneriyor.\", \"Sağlık\"),\n",
        "    (\"Yeni bir film vizyona girdi, çok eğlenceliydi.\", \"Eğlence\"),\n",
        "    (\"Seçimler yaklaşırken siyasi ortam gergin.\", \"Siyaset\"),\n",
        "    (\"Yeni bir bilgisayar yazılımı piyasaya sürüldü.\", \"Teknoloji\"),\n",
        "    (\"Basketbol maçı çok heyecanlı geçti.\", \"Spor\"),\n",
        "    (\"Hastalıklar hakkında yeni tedavi yöntemleri geliştirildi.\", \"Sağlık\"),\n",
        "    (\"Popüler bir müzik konseri düzenlendi.\", \"Eğlence\"),\n",
        "]\n",
        "\n",
        "# Veriyi ayırma\n",
        "texts, labels = zip(*data)\n",
        "\n",
        "# Metinleri sayısal verilere dönüştürüp (vektörleştirerek) ardından hangi kategoriye ait olduklarını belirlemek için bir işlem sırası (pipeline) oluşturuyoruz. Bu işlem sırası, metni alır, işler ve doğru kategoriyi belirler.\n",
        "model = make_pipeline(CountVectorizer(), MultinomialNB())\n",
        "\n",
        "# Modeli eğitme\n",
        "model.fit(texts, labels)\n",
        "\n",
        "# Kullanıcıdan metin girişi alma\n",
        "input_text = input(\"Bir metin girin: \")\n",
        "\n",
        "# Metni sınıflandırma\n",
        "predicted_category = model.predict([input_text])[0]\n",
        "\n",
        "# Sonucu yazdırma\n",
        "if predicted_category in [\"Siyaset\", \"Teknoloji\", \"Spor\", \"Sağlık\", \"Eğlence\"]:\n",
        "    print(\"Metnin konusu:\", predicted_category)\n",
        "else:\n",
        "    print(\"Metnin konusu: Diğer Konular\")"
      ],
      "metadata": {
        "colab": {
          "base_uri": "https://localhost:8080/"
        },
        "id": "nO2uWfTs96Y9",
        "outputId": "32553841-88e7-444d-b4c5-09364019ad49"
      },
      "execution_count": 5,
      "outputs": [
        {
          "output_type": "stream",
          "name": "stdout",
          "text": [
            "Bir metin girin: Doktorlar, sağlıklı yaşam için dengeli beslenmenin ve düzenli egzersizin önemine dikkat çekiyor. Son araştırmalar, bu alışkanlıkların yaşam kalitesini artırdığını gösteriyor.\n",
            "Metnin konusu: Sağlık\n"
          ]
        }
      ]
    }
  ]
}