{
  "nbformat": 4,
  "nbformat_minor": 0,
  "metadata": {
    "colab": {
      "provenance": [],
      "authorship_tag": "ABX9TyNOzHlegimRKH/9r8GVAP85",
      "include_colab_link": true
    },
    "kernelspec": {
      "name": "python3",
      "display_name": "Python 3"
    },
    "language_info": {
      "name": "python"
    }
  },
  "cells": [
    {
      "cell_type": "markdown",
      "metadata": {
        "id": "view-in-github",
        "colab_type": "text"
      },
      "source": [
        "<a href=\"https://colab.research.google.com/github/Dcanbolat/hu_bby261_2024/blob/main/Do%C4%9Fal_Dil_%C4%B0%C5%9Fleme_Proje_2_Konu_Tespiti.ipynb\" target=\"_parent\"><img src=\"https://colab.research.google.com/assets/colab-badge.svg\" alt=\"Open In Colab\"/></a>"
      ]
    },
    {
      "cell_type": "code",
      "execution_count": 1,
      "metadata": {
        "colab": {
          "base_uri": "https://localhost:8080/"
        },
        "id": "BX-Ym3g-5Us3",
        "outputId": "c2263ecb-54af-445a-98a7-3eb6f075bfb8"
      },
      "outputs": [
        {
          "output_type": "stream",
          "name": "stdout",
          "text": [
            "Bir metin girin: Yeni teknoloji ürünleri hayatımızı kolaylaştırıyor. Akıllı telefonlar ve bilgisayarlar, iş yapma şeklimizi tamamen değiştirdi. Ayrıca, yapay zeka ve internetin gelişimiyle gelecekte daha pek çok yenilik bekleniyor\n",
            "Metnin konusu: Teknoloji\n"
          ]
        }
      ],
      "source": [
        "def detect_topic(text):\n",
        "    # Konu başlıkları için basit anahtar kelimeler\n",
        "    topics = {\n",
        "        \"Siyaset\": [\"hükümet\", \"seçim\", \"başkan\", \"politik\", \"yasası\", \"oy\", \"demokrasi\", \"parti\"],\n",
        "        \"Teknoloji\": [\"teknoloji\", \"akıllı telefon\", \"bilgisayar\", \"yazılım\", \"donanım\", \"internet\", \"yenilik\"],\n",
        "        \"Spor\": [\"futbol\", \"basketbol\", \"maç\", \"takım\", \"oyuncu\", \"spora\", \"gol\", \"turnuva\"],\n",
        "        \"Sağlık\": [\"sağlık\", \"egzersiz\", \"doktor\", \"ilaç\", \"tedavi\", \"hastalık\", \"wellness\", \"hastane\"],\n",
        "        \"Eğlence\": [\"film\", \"müzik\", \"tiyatro\", \"oyun\", \"tv\", \"eğlence\", \"konser\", \"komedi\"]\n",
        "    }\n",
        "\n",
        "    # Metni küçük harfe çevir\n",
        "    text = text.lower()\n",
        "\n",
        "    # Her bir konu başlığı için puanları başlat\n",
        "    topic_scores = {\"Siyaset\": 0, \"Teknoloji\": 0, \"Spor\": 0, \"Sağlık\": 0, \"Eğlence\": 0}\n",
        "\n",
        "    # Metindeki her kelimeyi kontrol et\n",
        "    for word in text.split():\n",
        "        for topic, keywords in topics.items():\n",
        "            if word in keywords:\n",
        "                topic_scores[topic] += 1\n",
        "\n",
        "    # En fazla eşleşmeye sahip olan konu başlığını döndür\n",
        "    detected_topic = max(topic_scores, key=topic_scores.get)\n",
        "\n",
        "    # Eğer hiçbir kelime eşleşmezse \"Diğer Konular\" olarak döndür\n",
        "    if topic_scores[detected_topic] == 0:\n",
        "        return \"Diğer Konular\"\n",
        "\n",
        "    return detected_topic\n",
        "\n",
        "# Test örneği\n",
        "text = input(\"Bir metin girin: \")\n",
        "print(\"Metnin konusu:\", detect_topic(text))"
      ]
    }
  ]
}