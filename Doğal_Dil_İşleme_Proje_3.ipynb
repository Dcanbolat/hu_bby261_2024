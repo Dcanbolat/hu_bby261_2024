{
  "nbformat": 4,
  "nbformat_minor": 0,
  "metadata": {
    "colab": {
      "provenance": [],
      "authorship_tag": "ABX9TyPE7+6fZiMjiiRURr0WIj4P",
      "include_colab_link": true
    },
    "kernelspec": {
      "name": "python3",
      "display_name": "Python 3"
    },
    "language_info": {
      "name": "python"
    }
  },
  "cells": [
    {
      "cell_type": "markdown",
      "metadata": {
        "id": "view-in-github",
        "colab_type": "text"
      },
      "source": [
        "<a href=\"https://colab.research.google.com/github/Dcanbolat/hu_bby261_2024/blob/main/Do%C4%9Fal_Dil_%C4%B0%C5%9Fleme_Proje_3.ipynb\" target=\"_parent\"><img src=\"https://colab.research.google.com/assets/colab-badge.svg\" alt=\"Open In Colab\"/></a>"
      ]
    },
    {
      "cell_type": "code",
      "source": [
        "# Kütüphaneyi yükleyin\n",
        "!pip install langdetect\n",
        "\n",
        "# Sonrasında dil tespiti kodunu yazabilirsiniz\n",
        "from langdetect import detect, LangDetectException\n",
        "\n",
        "def detect_language(text):\n",
        "    # Desteklenen dillerin harf kodları\n",
        "    supported_languages = {\n",
        "        'tr': 'Türkçe',\n",
        "        'en': 'İngilizce',\n",
        "        'de': 'Almanca',\n",
        "        'fr': 'Fransızca',\n",
        "        'es': 'İspanyolca'\n",
        "    }\n",
        "\n",
        "    try:\n",
        "        # Dil tespiti yap\n",
        "        detected_lang = detect(text)\n",
        "\n",
        "        # Yalnızca desteklenen dillerden birini döndür\n",
        "        if detected_lang in supported_languages:\n",
        "            return supported_languages[detected_lang]\n",
        "        else:\n",
        "            return \"Bilinmeyen Dil\"\n",
        "\n",
        "    except LangDetectException as e:\n",
        "        # Eğer dil tespiti yapılmazsa hata mesajı döndür\n",
        "        return f\"Hata: {str(e)}\"\n",
        "\n",
        "# Kullanıcıdan metin girişi al\n",
        "text = input(\"Bir metin girin: \")\n",
        "# Metnin dilini tespit et ve ekrana yazdır\n",
        "print(\"Metnin dili:\", detect_language(text))\n"
      ],
      "metadata": {
        "colab": {
          "base_uri": "https://localhost:8080/"
        },
        "id": "I9UOcbHP8QhO",
        "outputId": "cfeab5df-1d1a-466b-9842-6b5106b385c8"
      },
      "execution_count": 5,
      "outputs": [
        {
          "output_type": "stream",
          "name": "stdout",
          "text": [
            "Collecting langdetect\n",
            "  Downloading langdetect-1.0.9.tar.gz (981 kB)\n",
            "\u001b[2K     \u001b[90m━━━━━━━━━━━━━━━━━━━━━━━━━━━━━━━━━━━━━━━━\u001b[0m \u001b[32m981.5/981.5 kB\u001b[0m \u001b[31m12.2 MB/s\u001b[0m eta \u001b[36m0:00:00\u001b[0m\n",
            "\u001b[?25h  Preparing metadata (setup.py) ... \u001b[?25l\u001b[?25hdone\n",
            "Requirement already satisfied: six in /usr/local/lib/python3.10/dist-packages (from langdetect) (1.16.0)\n",
            "Building wheels for collected packages: langdetect\n",
            "  Building wheel for langdetect (setup.py) ... \u001b[?25l\u001b[?25hdone\n",
            "  Created wheel for langdetect: filename=langdetect-1.0.9-py3-none-any.whl size=993222 sha256=e83b26357d8c68810c38f173beec32c1c52bad048055b534a99ba557726e6a0e\n",
            "  Stored in directory: /root/.cache/pip/wheels/95/03/7d/59ea870c70ce4e5a370638b5462a7711ab78fba2f655d05106\n",
            "Successfully built langdetect\n",
            "Installing collected packages: langdetect\n",
            "Successfully installed langdetect-1.0.9\n",
            "Bir metin girin: Guten Morgen, wie geht's?\n",
            "Metnin dili: Almanca\n"
          ]
        }
      ]
    }
  ]
}